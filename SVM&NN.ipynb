{
 "cells": [
  {
   "cell_type": "code",
   "execution_count": 1,
   "metadata": {},
   "outputs": [
    {
     "name": "stderr",
     "output_type": "stream",
     "text": [
      "Using TensorFlow backend.\n",
      "/Users/parisarezaie/anaconda3/lib/python3.6/importlib/_bootstrap.py:219: RuntimeWarning: compiletime version 3.5 of module 'tensorflow.python.framework.fast_tensor_util' does not match runtime version 3.6\n",
      "  return f(*args, **kwds)\n"
     ]
    }
   ],
   "source": [
    "import pandas as pd\n",
    "import numpy as np\n",
    "import seaborn as sns\n",
    "import matplotlib.pyplot as plt\n",
    "\n",
    "import json\n",
    "from SPARQLWrapper import SPARQLWrapper, JSON\n",
    "\n",
    "from sklearn.model_selection import train_test_split\n",
    "from sklearn.decomposition import PCA\n",
    "from sklearn.preprocessing import StandardScaler\n",
    "from sklearn.model_selection import cross_val_score\n",
    "from sklearn.preprocessing import LabelEncoder\n",
    "from sklearn.model_selection import StratifiedKFold\n",
    "from sklearn.pipeline import Pipeline\n",
    "from sklearn import svm\n",
    "from sklearn.metrics import classification_report,auc,roc_curve,roc_auc_score\n",
    "from sklearn.model_selection import GridSearchCV\n",
    "\n",
    "from keras.models import Sequential\n",
    "from keras.layers import Dense,Activation,Dropout\n",
    "from keras.wrappers.scikit_learn import KerasClassifier\n",
    "\n",
    "%matplotlib inline"
   ]
  },
  {
   "cell_type": "markdown",
   "metadata": {},
   "source": [
    "## Features of Online News Dataset"
   ]
  },
  {
   "cell_type": "code",
   "execution_count": 5,
   "metadata": {
    "collapsed": true
   },
   "outputs": [],
   "source": [
    "feature_df1=['url',' timedelta',' n_tokens_title',' n_tokens_content',' n_unique_tokens',' n_non_stop_words',\n",
    "' n_non_stop_unique_tokens',' num_hrefs',' num_self_hrefs',' num_imgs',' num_videos',' average_token_length',\n",
    "' num_keywords',' data_channel_is_lifestyle',' data_channel_is_entertainment',' data_channel_is_bus',\n",
    "' data_channel_is_socmed',' data_channel_is_tech',' data_channel_is_world',' kw_min_min',' kw_max_min']"
   ]
  },
  {
   "cell_type": "code",
   "execution_count": 2,
   "metadata": {
    "collapsed": true
   },
   "outputs": [],
   "source": [
    "feature_df2=['url',' kw_avg_min',' kw_min_max',' kw_max_max',' kw_avg_max',' kw_min_avg',' kw_max_avg',' kw_avg_avg',\n",
    "' self_reference_min_shares',' self_reference_max_shares',' self_reference_avg_sharess',' weekday_is_monday',\n",
    "' weekday_is_tuesday',' weekday_is_wednesday',' weekday_is_thursday',' weekday_is_friday',' weekday_is_saturday',\n",
    "' weekday_is_sunday',' is_weekend',' LDA_00',' LDA_01']"
   ]
  },
  {
   "cell_type": "code",
   "execution_count": 3,
   "metadata": {
    "collapsed": true
   },
   "outputs": [],
   "source": [
    "feature_df3=['url',' LDA_02',' LDA_03',' LDA_04',' global_subjectivity',' global_sentiment_polarity',' global_rate_positive_words',\n",
    "' global_rate_negative_words',' rate_positive_words',' rate_negative_words',' avg_positive_polarity',' min_positive_polarity',\n",
    "' max_positive_polarity',' avg_negative_polarity',' min_negative_polarity',' max_negative_polarity',' title_subjectivity',\n",
    "' title_sentiment_polarity',' abs_title_subjectivity',' abs_title_sentiment_polarity',' shares']"
   ]
  },
  {
   "cell_type": "markdown",
   "metadata": {},
   "source": [
    "## Reading data fom Fuseki and converting to DataFrame_part1"
   ]
  },
  {
   "cell_type": "code",
   "execution_count": 9,
   "metadata": {},
   "outputs": [
    {
     "name": "stdout",
     "output_type": "stream",
     "text": [
      "CPU times: user 3.63 s, sys: 1.35 s, total: 4.98 s\n",
      "Wall time: 20.6 s\n"
     ]
    }
   ],
   "source": [
    "%%time\n",
    "sparql = SPARQLWrapper(\"http://localhost:3030/SW11/sparql\")\n",
    "queryString = \"\"\"\n",
    "\n",
    "SELECT DISTINCT ?s ?p ?o\n",
    "WHERE {\n",
    "    ?s ?p ?o .\n",
    "\n",
    "}\n",
    "\n",
    "\"\"\"\n",
    "sparql.setQuery(queryString)\n",
    "sparql.setReturnFormat(JSON)\n",
    "results1 = sparql.query().convert()"
   ]
  },
  {
   "cell_type": "markdown",
   "metadata": {},
   "source": [
    "## Counting triples"
   ]
  },
  {
   "cell_type": "code",
   "execution_count": 10,
   "metadata": {},
   "outputs": [
    {
     "name": "stdout",
     "output_type": "stream",
     "text": [
      "Query return 2378640 results\n"
     ]
    }
   ],
   "source": [
    "parsed1 = []\n",
    "for entry in results1['results']['bindings']:\n",
    "    for sparql_variable in entry.keys():\n",
    "        parsed1.append({sparql_variable: entry[sparql_variable]['value']})\n",
    "print('Query return ' + str(len(parsed1)) + ' results')        "
   ]
  },
  {
   "cell_type": "markdown",
   "metadata": {},
   "source": [
    "## Converting Triples to dataFrame"
   ]
  },
  {
   "cell_type": "code",
   "execution_count": 11,
   "metadata": {},
   "outputs": [
    {
     "name": "stdout",
     "output_type": "stream",
     "text": [
      "CPU times: user 20 s, sys: 248 ms, total: 20.3 s\n",
      "Wall time: 21.5 s\n"
     ]
    }
   ],
   "source": [
    "%%time\n",
    "df_tmp_1 = pd.DataFrame()\n",
    "\n",
    "columnlists1 = dict()\n",
    "for item in sorted(feature_df1):\n",
    "    columnlists1[item.strip()] = []\n",
    "    \n",
    "for entry in results1['results']['bindings']:\n",
    "    for sparql_variable in entry.keys():\n",
    "        columnlists1[feature_df1[0].strip()].append(entry[u's']['value'])\n",
    "            \n",
    "for entry in results1['results']['bindings']:\n",
    "    for sparql_variable in entry.keys():\n",
    "        for item in sorted(feature_df1):\n",
    "            if entry[u'p']['value'] == 'http://www.foo.org/'+item.strip():\n",
    "                columnlists1[item.strip()].append(entry[u'o']['value'])\n",
    "                #columnlists1[item.strip()].append(entry[u's']['value'])\n",
    "            #columnlists1[feature_df1[0].strip()].append(entry[u's']['value'])"
   ]
  },
  {
   "cell_type": "code",
   "execution_count": 12,
   "metadata": {
    "collapsed": true
   },
   "outputs": [],
   "source": [
    "for item in sorted(feature_df1):\n",
    "     df_tmp_1[item.strip()]=pd.Series(columnlists1[item.strip()])\n",
    "df_tmp_1.drop_duplicates(subset=None, keep='first', inplace=True)                "
   ]
  },
  {
   "cell_type": "markdown",
   "metadata": {},
   "source": [
    "## Reading data fom Fuseki and converting to DataFrame_part2"
   ]
  },
  {
   "cell_type": "code",
   "execution_count": 13,
   "metadata": {},
   "outputs": [
    {
     "name": "stdout",
     "output_type": "stream",
     "text": [
      "CPU times: user 3.86 s, sys: 2.67 s, total: 6.53 s\n",
      "Wall time: 21.3 s\n"
     ]
    }
   ],
   "source": [
    "%%time\n",
    "from SPARQLWrapper import SPARQLWrapper, JSON\n",
    "sparql = SPARQLWrapper(\"http://localhost:3030/SW12/sparql\")\n",
    "queryString = \"\"\"\n",
    "\n",
    "SELECT DISTINCT ?s ?p ?o\n",
    "WHERE {\n",
    "    ?s ?p ?o .\n",
    "\n",
    "}\n",
    "\n",
    "\"\"\"\n",
    "sparql.setQuery(queryString)\n",
    "sparql.setReturnFormat(JSON)\n",
    "results2 = sparql.query().convert()"
   ]
  },
  {
   "cell_type": "markdown",
   "metadata": {},
   "source": [
    "## Counting Triples"
   ]
  },
  {
   "cell_type": "code",
   "execution_count": 14,
   "metadata": {},
   "outputs": [
    {
     "name": "stdout",
     "output_type": "stream",
     "text": [
      "Query return 2378640 results\n"
     ]
    }
   ],
   "source": [
    "parsed2 = []\n",
    "for entry in results2['results']['bindings']:\n",
    "    for sparql_variable in entry.keys():\n",
    "        parsed2.append({sparql_variable: entry[sparql_variable]['value']})\n",
    "print('Query return ' + str(len(parsed2)) + ' results')        "
   ]
  },
  {
   "cell_type": "markdown",
   "metadata": {},
   "source": [
    "## Converting Triples to DataFrame"
   ]
  },
  {
   "cell_type": "code",
   "execution_count": 15,
   "metadata": {},
   "outputs": [
    {
     "name": "stdout",
     "output_type": "stream",
     "text": [
      "CPU times: user 19.7 s, sys: 218 ms, total: 19.9 s\n",
      "Wall time: 20.4 s\n"
     ]
    }
   ],
   "source": [
    "%%time\n",
    "df_tmp_2 = pd.DataFrame()\n",
    "\n",
    "columnlists2 = dict()\n",
    "for item in sorted(feature_df2):\n",
    "    columnlists2[item.strip()] = []\n",
    "    \n",
    "for entry in results2['results']['bindings']:\n",
    "    for sparql_variable in entry.keys():\n",
    "        columnlists2[feature_df2[0].strip()].append(entry[u's']['value'])\n",
    "            \n",
    "for entry in results2['results']['bindings']:\n",
    "    for sparql_variable in entry.keys():\n",
    "        for item in sorted(feature_df2):\n",
    "            if entry[u'p']['value'] == 'http://www.foo.org/'+item.strip():\n",
    "                columnlists2[item.strip()].append(entry[u'o']['value'])"
   ]
  },
  {
   "cell_type": "code",
   "execution_count": 16,
   "metadata": {
    "collapsed": true
   },
   "outputs": [],
   "source": [
    "for item in sorted(feature_df2):\n",
    "     df_tmp_2[item.strip()]=pd.Series(columnlists2[item.strip()])\n",
    "df_tmp_2.drop_duplicates(subset=None, keep='first', inplace=True)                "
   ]
  },
  {
   "cell_type": "markdown",
   "metadata": {},
   "source": [
    "## Reading data fom Fuseki and converting to DataFrame_part3"
   ]
  },
  {
   "cell_type": "code",
   "execution_count": 17,
   "metadata": {},
   "outputs": [
    {
     "name": "stdout",
     "output_type": "stream",
     "text": [
      "CPU times: user 5.31 s, sys: 5.4 s, total: 10.7 s\n",
      "Wall time: 27.2 s\n"
     ]
    }
   ],
   "source": [
    "%%time\n",
    "from SPARQLWrapper import SPARQLWrapper, JSON\n",
    "sparql = SPARQLWrapper(\"http://localhost:3030/SW13/sparql\")\n",
    "queryString = \"\"\"\n",
    "\n",
    "SELECT DISTINCT ?s ?p ?o\n",
    "WHERE {\n",
    "    ?s ?p ?o .\n",
    "\n",
    "}\n",
    "\n",
    "\"\"\"\n",
    "sparql.setQuery(queryString)\n",
    "sparql.setReturnFormat(JSON)\n",
    "results3 = sparql.query().convert()"
   ]
  },
  {
   "cell_type": "markdown",
   "metadata": {},
   "source": [
    "## Counting Triples"
   ]
  },
  {
   "cell_type": "code",
   "execution_count": 18,
   "metadata": {},
   "outputs": [
    {
     "name": "stdout",
     "output_type": "stream",
     "text": [
      "Query return 2378640 results\n"
     ]
    }
   ],
   "source": [
    "parsed3 = []\n",
    "for entry in results3['results']['bindings']:\n",
    "    for sparql_variable in entry.keys():\n",
    "        parsed3.append({sparql_variable: entry[sparql_variable]['value']})\n",
    "print('Query return ' + str(len(parsed3)) + ' results') "
   ]
  },
  {
   "cell_type": "markdown",
   "metadata": {},
   "source": [
    "## Converting Triples to DataFrame"
   ]
  },
  {
   "cell_type": "code",
   "execution_count": 19,
   "metadata": {},
   "outputs": [
    {
     "name": "stdout",
     "output_type": "stream",
     "text": [
      "CPU times: user 19.5 s, sys: 133 ms, total: 19.6 s\n",
      "Wall time: 19.9 s\n"
     ]
    }
   ],
   "source": [
    "%%time\n",
    "df_tmp_3 = pd.DataFrame()\n",
    "\n",
    "columnlists3 = dict()\n",
    "for item in sorted(feature_df3):\n",
    "    columnlists3[item.strip()] = []\n",
    "    \n",
    "for entry in results3['results']['bindings']:\n",
    "    for sparql_variable in entry.keys():\n",
    "        columnlists3[feature_df3[0].strip()].append(entry[u's']['value'])\n",
    "            \n",
    "for entry in results3['results']['bindings']:\n",
    "    for sparql_variable in entry.keys():\n",
    "        for item in sorted(feature_df3):\n",
    "            if entry[u'p']['value'] == 'http://www.foo.org/'+item.strip():\n",
    "                columnlists3[item.strip()].append(entry[u'o']['value'])"
   ]
  },
  {
   "cell_type": "code",
   "execution_count": 20,
   "metadata": {
    "collapsed": true
   },
   "outputs": [],
   "source": [
    "for item in sorted(feature_df3):\n",
    "     df_tmp_3[item.strip()]=pd.Series(columnlists3[item.strip()])\n",
    "df_tmp_3.drop_duplicates(subset=None, keep='first', inplace=True)                "
   ]
  },
  {
   "cell_type": "markdown",
   "metadata": {},
   "source": [
    "## Concatinate 3 parts of Dataframe to one "
   ]
  },
  {
   "cell_type": "code",
   "execution_count": 21,
   "metadata": {
    "collapsed": true
   },
   "outputs": [],
   "source": [
    "df_tmp_1.reset_index(drop=True, inplace=True)\n",
    "df_tmp_2.reset_index(drop=True, inplace=True)\n",
    "df_tmp_3.reset_index(drop=True, inplace=True)\n",
    "\n",
    "df_main = pd.concat([df_tmp_1,df_tmp_2,df_tmp_3],axis=1)\n",
    "df_main.drop(['url'],axis=1,inplace=True)\n",
    "df_tmp=df_main.astype('float')"
   ]
  },
  {
   "cell_type": "markdown",
   "metadata": {},
   "source": [
    "## Showing the head of DataFrame"
   ]
  },
  {
   "cell_type": "code",
   "execution_count": 22,
   "metadata": {},
   "outputs": [
    {
     "data": {
      "text/html": [
       "<div>\n",
       "<style>\n",
       "    .dataframe thead tr:only-child th {\n",
       "        text-align: right;\n",
       "    }\n",
       "\n",
       "    .dataframe thead th {\n",
       "        text-align: left;\n",
       "    }\n",
       "\n",
       "    .dataframe tbody tr th {\n",
       "        vertical-align: top;\n",
       "    }\n",
       "</style>\n",
       "<table border=\"1\" class=\"dataframe\">\n",
       "  <thead>\n",
       "    <tr style=\"text-align: right;\">\n",
       "      <th></th>\n",
       "      <th>average_token_length</th>\n",
       "      <th>data_channel_is_bus</th>\n",
       "      <th>data_channel_is_entertainment</th>\n",
       "      <th>data_channel_is_lifestyle</th>\n",
       "      <th>data_channel_is_socmed</th>\n",
       "      <th>data_channel_is_tech</th>\n",
       "      <th>data_channel_is_world</th>\n",
       "      <th>kw_max_min</th>\n",
       "      <th>kw_min_min</th>\n",
       "      <th>n_non_stop_unique_tokens</th>\n",
       "      <th>...</th>\n",
       "      <th>global_subjectivity</th>\n",
       "      <th>max_negative_polarity</th>\n",
       "      <th>max_positive_polarity</th>\n",
       "      <th>min_negative_polarity</th>\n",
       "      <th>min_positive_polarity</th>\n",
       "      <th>rate_negative_words</th>\n",
       "      <th>rate_positive_words</th>\n",
       "      <th>shares</th>\n",
       "      <th>title_sentiment_polarity</th>\n",
       "      <th>title_subjectivity</th>\n",
       "    </tr>\n",
       "  </thead>\n",
       "  <tbody>\n",
       "    <tr>\n",
       "      <th>0</th>\n",
       "      <td>4.720395</td>\n",
       "      <td>0.0</td>\n",
       "      <td>0.0</td>\n",
       "      <td>0.0</td>\n",
       "      <td>0.0</td>\n",
       "      <td>0.0</td>\n",
       "      <td>0.0</td>\n",
       "      <td>530.0</td>\n",
       "      <td>4.0</td>\n",
       "      <td>0.691943</td>\n",
       "      <td>...</td>\n",
       "      <td>0.585143</td>\n",
       "      <td>-0.066667</td>\n",
       "      <td>1.0</td>\n",
       "      <td>-0.500000</td>\n",
       "      <td>0.100000</td>\n",
       "      <td>0.347826</td>\n",
       "      <td>0.652174</td>\n",
       "      <td>2700.0</td>\n",
       "      <td>-0.066667</td>\n",
       "      <td>0.6</td>\n",
       "    </tr>\n",
       "    <tr>\n",
       "      <th>1</th>\n",
       "      <td>4.923646</td>\n",
       "      <td>0.0</td>\n",
       "      <td>0.0</td>\n",
       "      <td>0.0</td>\n",
       "      <td>1.0</td>\n",
       "      <td>0.0</td>\n",
       "      <td>0.0</td>\n",
       "      <td>2000.0</td>\n",
       "      <td>4.0</td>\n",
       "      <td>0.668033</td>\n",
       "      <td>...</td>\n",
       "      <td>0.370909</td>\n",
       "      <td>-0.100000</td>\n",
       "      <td>1.0</td>\n",
       "      <td>-0.500000</td>\n",
       "      <td>0.033333</td>\n",
       "      <td>0.310345</td>\n",
       "      <td>0.689655</td>\n",
       "      <td>1500.0</td>\n",
       "      <td>0.000000</td>\n",
       "      <td>0.0</td>\n",
       "    </tr>\n",
       "    <tr>\n",
       "      <th>2</th>\n",
       "      <td>4.885196</td>\n",
       "      <td>0.0</td>\n",
       "      <td>1.0</td>\n",
       "      <td>0.0</td>\n",
       "      <td>0.0</td>\n",
       "      <td>0.0</td>\n",
       "      <td>0.0</td>\n",
       "      <td>910.0</td>\n",
       "      <td>-1.0</td>\n",
       "      <td>0.593750</td>\n",
       "      <td>...</td>\n",
       "      <td>0.349447</td>\n",
       "      <td>-0.155556</td>\n",
       "      <td>0.8</td>\n",
       "      <td>-0.166667</td>\n",
       "      <td>0.100000</td>\n",
       "      <td>0.166667</td>\n",
       "      <td>0.833333</td>\n",
       "      <td>986.0</td>\n",
       "      <td>0.000000</td>\n",
       "      <td>0.0</td>\n",
       "    </tr>\n",
       "    <tr>\n",
       "      <th>3</th>\n",
       "      <td>4.700146</td>\n",
       "      <td>1.0</td>\n",
       "      <td>0.0</td>\n",
       "      <td>0.0</td>\n",
       "      <td>0.0</td>\n",
       "      <td>0.0</td>\n",
       "      <td>0.0</td>\n",
       "      <td>444.0</td>\n",
       "      <td>4.0</td>\n",
       "      <td>0.661765</td>\n",
       "      <td>...</td>\n",
       "      <td>0.433588</td>\n",
       "      <td>-0.150000</td>\n",
       "      <td>1.0</td>\n",
       "      <td>-0.500000</td>\n",
       "      <td>0.100000</td>\n",
       "      <td>0.175000</td>\n",
       "      <td>0.825000</td>\n",
       "      <td>1700.0</td>\n",
       "      <td>0.000000</td>\n",
       "      <td>0.0</td>\n",
       "    </tr>\n",
       "    <tr>\n",
       "      <th>4</th>\n",
       "      <td>4.817174</td>\n",
       "      <td>0.0</td>\n",
       "      <td>0.0</td>\n",
       "      <td>0.0</td>\n",
       "      <td>0.0</td>\n",
       "      <td>0.0</td>\n",
       "      <td>1.0</td>\n",
       "      <td>11000.0</td>\n",
       "      <td>-1.0</td>\n",
       "      <td>0.772947</td>\n",
       "      <td>...</td>\n",
       "      <td>0.396504</td>\n",
       "      <td>-0.187500</td>\n",
       "      <td>0.6</td>\n",
       "      <td>-0.600000</td>\n",
       "      <td>0.100000</td>\n",
       "      <td>0.150000</td>\n",
       "      <td>0.850000</td>\n",
       "      <td>2600.0</td>\n",
       "      <td>0.000000</td>\n",
       "      <td>0.0</td>\n",
       "    </tr>\n",
       "  </tbody>\n",
       "</table>\n",
       "<p>5 rows × 60 columns</p>\n",
       "</div>"
      ],
      "text/plain": [
       "   average_token_length  data_channel_is_bus  data_channel_is_entertainment  \\\n",
       "0              4.720395                  0.0                            0.0   \n",
       "1              4.923646                  0.0                            0.0   \n",
       "2              4.885196                  0.0                            1.0   \n",
       "3              4.700146                  1.0                            0.0   \n",
       "4              4.817174                  0.0                            0.0   \n",
       "\n",
       "   data_channel_is_lifestyle  data_channel_is_socmed  data_channel_is_tech  \\\n",
       "0                        0.0                     0.0                   0.0   \n",
       "1                        0.0                     1.0                   0.0   \n",
       "2                        0.0                     0.0                   0.0   \n",
       "3                        0.0                     0.0                   0.0   \n",
       "4                        0.0                     0.0                   0.0   \n",
       "\n",
       "   data_channel_is_world  kw_max_min  kw_min_min  n_non_stop_unique_tokens  \\\n",
       "0                    0.0       530.0         4.0                  0.691943   \n",
       "1                    0.0      2000.0         4.0                  0.668033   \n",
       "2                    0.0       910.0        -1.0                  0.593750   \n",
       "3                    0.0       444.0         4.0                  0.661765   \n",
       "4                    1.0     11000.0        -1.0                  0.772947   \n",
       "\n",
       "          ...          global_subjectivity  max_negative_polarity  \\\n",
       "0         ...                     0.585143              -0.066667   \n",
       "1         ...                     0.370909              -0.100000   \n",
       "2         ...                     0.349447              -0.155556   \n",
       "3         ...                     0.433588              -0.150000   \n",
       "4         ...                     0.396504              -0.187500   \n",
       "\n",
       "   max_positive_polarity  min_negative_polarity  min_positive_polarity  \\\n",
       "0                    1.0              -0.500000               0.100000   \n",
       "1                    1.0              -0.500000               0.033333   \n",
       "2                    0.8              -0.166667               0.100000   \n",
       "3                    1.0              -0.500000               0.100000   \n",
       "4                    0.6              -0.600000               0.100000   \n",
       "\n",
       "   rate_negative_words  rate_positive_words  shares  title_sentiment_polarity  \\\n",
       "0             0.347826             0.652174  2700.0                 -0.066667   \n",
       "1             0.310345             0.689655  1500.0                  0.000000   \n",
       "2             0.166667             0.833333   986.0                  0.000000   \n",
       "3             0.175000             0.825000  1700.0                  0.000000   \n",
       "4             0.150000             0.850000  2600.0                  0.000000   \n",
       "\n",
       "   title_subjectivity  \n",
       "0                 0.6  \n",
       "1                 0.0  \n",
       "2                 0.0  \n",
       "3                 0.0  \n",
       "4                 0.0  \n",
       "\n",
       "[5 rows x 60 columns]"
      ]
     },
     "execution_count": 22,
     "metadata": {},
     "output_type": "execute_result"
    }
   ],
   "source": [
    "df_tmp.head()"
   ]
  },
  {
   "cell_type": "markdown",
   "metadata": {},
   "source": [
    "## Finding the Treshold of Shares for Converting Target Values to Binary Classification"
   ]
  },
  {
   "cell_type": "code",
   "execution_count": 23,
   "metadata": {},
   "outputs": [
    {
     "data": {
      "image/png": "[encoded data removed]",
      "text/plain": [
       "<matplotlib.figure.Figure at 0x1b5ae95780>"
      ]
     },
     "metadata": {},
     "output_type": "display_data"
    }
   ],
   "source": [
    "plt.figure(figsize=(10,6))\n",
    "plt.hist(df_tmp['shares'],color='b',bins=30,range=[0,8000],density=True,cumulative=True)\n",
    "plt.xticks(rotation=90,size=12)\n",
    "plt.ylabel('Density',size=18)\n",
    "plt.xlabel('cumulative sum of shares',size=18)\n",
    "plt.grid()\n",
    "plt.tight_layout()\n",
    "plt.savefig('./shares.pdf')"
   ]
  },
  {
   "cell_type": "markdown",
   "metadata": {},
   "source": [
    "## Function for Converting Target Values to labels for classification"
   ]
  },
  {
   "cell_type": "code",
   "execution_count": 24,
   "metadata": {
    "collapsed": true
   },
   "outputs": [],
   "source": [
    "def shares_to_labels(a):\n",
    "    \"\"\"\n",
    "    A function to read targer i.e. \n",
    "    share values and those below 1300 shares \n",
    "    are turned to class 0, and above 1300 are\n",
    "    lablelled as class 1.\n",
    "    \"\"\"\n",
    "    if -1<a<1300.0:\n",
    "        l=0\n",
    "    else:\n",
    "        l=1\n",
    "    return l"
   ]
  },
  {
   "cell_type": "code",
   "execution_count": 25,
   "metadata": {
    "collapsed": true
   },
   "outputs": [],
   "source": [
    "df_tmp['shares_label'] = df_tmp['shares'].apply(shares_to_labels)"
   ]
  },
  {
   "cell_type": "markdown",
   "metadata": {},
   "source": [
    "## Data set after adding lable"
   ]
  },
  {
   "cell_type": "code",
   "execution_count": 26,
   "metadata": {},
   "outputs": [
    {
     "data": {
      "text/html": [
       "<div>\n",
       "<style>\n",
       "    .dataframe thead tr:only-child th {\n",
       "        text-align: right;\n",
       "    }\n",
       "\n",
       "    .dataframe thead th {\n",
       "        text-align: left;\n",
       "    }\n",
       "\n",
       "    .dataframe tbody tr th {\n",
       "        vertical-align: top;\n",
       "    }\n",
       "</style>\n",
       "<table border=\"1\" class=\"dataframe\">\n",
       "  <thead>\n",
       "    <tr style=\"text-align: right;\">\n",
       "      <th></th>\n",
       "      <th>average_token_length</th>\n",
       "      <th>data_channel_is_bus</th>\n",
       "      <th>data_channel_is_entertainment</th>\n",
       "      <th>data_channel_is_lifestyle</th>\n",
       "      <th>data_channel_is_socmed</th>\n",
       "      <th>data_channel_is_tech</th>\n",
       "      <th>data_channel_is_world</th>\n",
       "      <th>kw_max_min</th>\n",
       "      <th>kw_min_min</th>\n",
       "      <th>n_non_stop_unique_tokens</th>\n",
       "      <th>...</th>\n",
       "      <th>max_negative_polarity</th>\n",
       "      <th>max_positive_polarity</th>\n",
       "      <th>min_negative_polarity</th>\n",
       "      <th>min_positive_polarity</th>\n",
       "      <th>rate_negative_words</th>\n",
       "      <th>rate_positive_words</th>\n",
       "      <th>shares</th>\n",
       "      <th>title_sentiment_polarity</th>\n",
       "      <th>title_subjectivity</th>\n",
       "      <th>shares_label</th>\n",
       "    </tr>\n",
       "  </thead>\n",
       "  <tbody>\n",
       "    <tr>\n",
       "      <th>0</th>\n",
       "      <td>4.720395</td>\n",
       "      <td>0.0</td>\n",
       "      <td>0.0</td>\n",
       "      <td>0.0</td>\n",
       "      <td>0.0</td>\n",
       "      <td>0.0</td>\n",
       "      <td>0.0</td>\n",
       "      <td>530.0</td>\n",
       "      <td>4.0</td>\n",
       "      <td>0.691943</td>\n",
       "      <td>...</td>\n",
       "      <td>-0.066667</td>\n",
       "      <td>1.0</td>\n",
       "      <td>-0.500000</td>\n",
       "      <td>0.100000</td>\n",
       "      <td>0.347826</td>\n",
       "      <td>0.652174</td>\n",
       "      <td>2700.0</td>\n",
       "      <td>-0.066667</td>\n",
       "      <td>0.6</td>\n",
       "      <td>1</td>\n",
       "    </tr>\n",
       "    <tr>\n",
       "      <th>1</th>\n",
       "      <td>4.923646</td>\n",
       "      <td>0.0</td>\n",
       "      <td>0.0</td>\n",
       "      <td>0.0</td>\n",
       "      <td>1.0</td>\n",
       "      <td>0.0</td>\n",
       "      <td>0.0</td>\n",
       "      <td>2000.0</td>\n",
       "      <td>4.0</td>\n",
       "      <td>0.668033</td>\n",
       "      <td>...</td>\n",
       "      <td>-0.100000</td>\n",
       "      <td>1.0</td>\n",
       "      <td>-0.500000</td>\n",
       "      <td>0.033333</td>\n",
       "      <td>0.310345</td>\n",
       "      <td>0.689655</td>\n",
       "      <td>1500.0</td>\n",
       "      <td>0.000000</td>\n",
       "      <td>0.0</td>\n",
       "      <td>1</td>\n",
       "    </tr>\n",
       "    <tr>\n",
       "      <th>2</th>\n",
       "      <td>4.885196</td>\n",
       "      <td>0.0</td>\n",
       "      <td>1.0</td>\n",
       "      <td>0.0</td>\n",
       "      <td>0.0</td>\n",
       "      <td>0.0</td>\n",
       "      <td>0.0</td>\n",
       "      <td>910.0</td>\n",
       "      <td>-1.0</td>\n",
       "      <td>0.593750</td>\n",
       "      <td>...</td>\n",
       "      <td>-0.155556</td>\n",
       "      <td>0.8</td>\n",
       "      <td>-0.166667</td>\n",
       "      <td>0.100000</td>\n",
       "      <td>0.166667</td>\n",
       "      <td>0.833333</td>\n",
       "      <td>986.0</td>\n",
       "      <td>0.000000</td>\n",
       "      <td>0.0</td>\n",
       "      <td>0</td>\n",
       "    </tr>\n",
       "    <tr>\n",
       "      <th>3</th>\n",
       "      <td>4.700146</td>\n",
       "      <td>1.0</td>\n",
       "      <td>0.0</td>\n",
       "      <td>0.0</td>\n",
       "      <td>0.0</td>\n",
       "      <td>0.0</td>\n",
       "      <td>0.0</td>\n",
       "      <td>444.0</td>\n",
       "      <td>4.0</td>\n",
       "      <td>0.661765</td>\n",
       "      <td>...</td>\n",
       "      <td>-0.150000</td>\n",
       "      <td>1.0</td>\n",
       "      <td>-0.500000</td>\n",
       "      <td>0.100000</td>\n",
       "      <td>0.175000</td>\n",
       "      <td>0.825000</td>\n",
       "      <td>1700.0</td>\n",
       "      <td>0.000000</td>\n",
       "      <td>0.0</td>\n",
       "      <td>1</td>\n",
       "    </tr>\n",
       "    <tr>\n",
       "      <th>4</th>\n",
       "      <td>4.817174</td>\n",
       "      <td>0.0</td>\n",
       "      <td>0.0</td>\n",
       "      <td>0.0</td>\n",
       "      <td>0.0</td>\n",
       "      <td>0.0</td>\n",
       "      <td>1.0</td>\n",
       "      <td>11000.0</td>\n",
       "      <td>-1.0</td>\n",
       "      <td>0.772947</td>\n",
       "      <td>...</td>\n",
       "      <td>-0.187500</td>\n",
       "      <td>0.6</td>\n",
       "      <td>-0.600000</td>\n",
       "      <td>0.100000</td>\n",
       "      <td>0.150000</td>\n",
       "      <td>0.850000</td>\n",
       "      <td>2600.0</td>\n",
       "      <td>0.000000</td>\n",
       "      <td>0.0</td>\n",
       "      <td>1</td>\n",
       "    </tr>\n",
       "  </tbody>\n",
       "</table>\n",
       "<p>5 rows × 61 columns</p>\n",
       "</div>"
      ],
      "text/plain": [
       "   average_token_length  data_channel_is_bus  data_channel_is_entertainment  \\\n",
       "0              4.720395                  0.0                            0.0   \n",
       "1              4.923646                  0.0                            0.0   \n",
       "2              4.885196                  0.0                            1.0   \n",
       "3              4.700146                  1.0                            0.0   \n",
       "4              4.817174                  0.0                            0.0   \n",
       "\n",
       "   data_channel_is_lifestyle  data_channel_is_socmed  data_channel_is_tech  \\\n",
       "0                        0.0                     0.0                   0.0   \n",
       "1                        0.0                     1.0                   0.0   \n",
       "2                        0.0                     0.0                   0.0   \n",
       "3                        0.0                     0.0                   0.0   \n",
       "4                        0.0                     0.0                   0.0   \n",
       "\n",
       "   data_channel_is_world  kw_max_min  kw_min_min  n_non_stop_unique_tokens  \\\n",
       "0                    0.0       530.0         4.0                  0.691943   \n",
       "1                    0.0      2000.0         4.0                  0.668033   \n",
       "2                    0.0       910.0        -1.0                  0.593750   \n",
       "3                    0.0       444.0         4.0                  0.661765   \n",
       "4                    1.0     11000.0        -1.0                  0.772947   \n",
       "\n",
       "       ...       max_negative_polarity  max_positive_polarity  \\\n",
       "0      ...                   -0.066667                    1.0   \n",
       "1      ...                   -0.100000                    1.0   \n",
       "2      ...                   -0.155556                    0.8   \n",
       "3      ...                   -0.150000                    1.0   \n",
       "4      ...                   -0.187500                    0.6   \n",
       "\n",
       "   min_negative_polarity  min_positive_polarity  rate_negative_words  \\\n",
       "0              -0.500000               0.100000             0.347826   \n",
       "1              -0.500000               0.033333             0.310345   \n",
       "2              -0.166667               0.100000             0.166667   \n",
       "3              -0.500000               0.100000             0.175000   \n",
       "4              -0.600000               0.100000             0.150000   \n",
       "\n",
       "   rate_positive_words  shares  title_sentiment_polarity  title_subjectivity  \\\n",
       "0             0.652174  2700.0                 -0.066667                 0.6   \n",
       "1             0.689655  1500.0                  0.000000                 0.0   \n",
       "2             0.833333   986.0                  0.000000                 0.0   \n",
       "3             0.825000  1700.0                  0.000000                 0.0   \n",
       "4             0.850000  2600.0                  0.000000                 0.0   \n",
       "\n",
       "   shares_label  \n",
       "0             1  \n",
       "1             1  \n",
       "2             0  \n",
       "3             1  \n",
       "4             1  \n",
       "\n",
       "[5 rows x 61 columns]"
      ]
     },
     "execution_count": 26,
     "metadata": {},
     "output_type": "execute_result"
    }
   ],
   "source": [
    "df_tmp.head()"
   ]
  },
  {
   "cell_type": "code",
   "execution_count": 27,
   "metadata": {
    "collapsed": true
   },
   "outputs": [],
   "source": [
    "df=df_tmp\n",
    "df.drop('shares',axis=1,inplace=True)"
   ]
  },
  {
   "cell_type": "code",
   "execution_count": 28,
   "metadata": {},
   "outputs": [
    {
     "data": {
      "text/html": [
       "<div>\n",
       "<style>\n",
       "    .dataframe thead tr:only-child th {\n",
       "        text-align: right;\n",
       "    }\n",
       "\n",
       "    .dataframe thead th {\n",
       "        text-align: left;\n",
       "    }\n",
       "\n",
       "    .dataframe tbody tr th {\n",
       "        vertical-align: top;\n",
       "    }\n",
       "</style>\n",
       "<table border=\"1\" class=\"dataframe\">\n",
       "  <thead>\n",
       "    <tr style=\"text-align: right;\">\n",
       "      <th></th>\n",
       "      <th>average_token_length</th>\n",
       "      <th>data_channel_is_bus</th>\n",
       "      <th>data_channel_is_entertainment</th>\n",
       "      <th>data_channel_is_lifestyle</th>\n",
       "      <th>data_channel_is_socmed</th>\n",
       "      <th>data_channel_is_tech</th>\n",
       "      <th>data_channel_is_world</th>\n",
       "      <th>kw_max_min</th>\n",
       "      <th>kw_min_min</th>\n",
       "      <th>n_non_stop_unique_tokens</th>\n",
       "      <th>...</th>\n",
       "      <th>global_subjectivity</th>\n",
       "      <th>max_negative_polarity</th>\n",
       "      <th>max_positive_polarity</th>\n",
       "      <th>min_negative_polarity</th>\n",
       "      <th>min_positive_polarity</th>\n",
       "      <th>rate_negative_words</th>\n",
       "      <th>rate_positive_words</th>\n",
       "      <th>title_sentiment_polarity</th>\n",
       "      <th>title_subjectivity</th>\n",
       "      <th>shares_label</th>\n",
       "    </tr>\n",
       "  </thead>\n",
       "  <tbody>\n",
       "    <tr>\n",
       "      <th>0</th>\n",
       "      <td>4.720395</td>\n",
       "      <td>0.0</td>\n",
       "      <td>0.0</td>\n",
       "      <td>0.0</td>\n",
       "      <td>0.0</td>\n",
       "      <td>0.0</td>\n",
       "      <td>0.0</td>\n",
       "      <td>530.0</td>\n",
       "      <td>4.0</td>\n",
       "      <td>0.691943</td>\n",
       "      <td>...</td>\n",
       "      <td>0.585143</td>\n",
       "      <td>-0.066667</td>\n",
       "      <td>1.0</td>\n",
       "      <td>-0.500000</td>\n",
       "      <td>0.100000</td>\n",
       "      <td>0.347826</td>\n",
       "      <td>0.652174</td>\n",
       "      <td>-0.066667</td>\n",
       "      <td>0.6</td>\n",
       "      <td>1</td>\n",
       "    </tr>\n",
       "    <tr>\n",
       "      <th>1</th>\n",
       "      <td>4.923646</td>\n",
       "      <td>0.0</td>\n",
       "      <td>0.0</td>\n",
       "      <td>0.0</td>\n",
       "      <td>1.0</td>\n",
       "      <td>0.0</td>\n",
       "      <td>0.0</td>\n",
       "      <td>2000.0</td>\n",
       "      <td>4.0</td>\n",
       "      <td>0.668033</td>\n",
       "      <td>...</td>\n",
       "      <td>0.370909</td>\n",
       "      <td>-0.100000</td>\n",
       "      <td>1.0</td>\n",
       "      <td>-0.500000</td>\n",
       "      <td>0.033333</td>\n",
       "      <td>0.310345</td>\n",
       "      <td>0.689655</td>\n",
       "      <td>0.000000</td>\n",
       "      <td>0.0</td>\n",
       "      <td>1</td>\n",
       "    </tr>\n",
       "    <tr>\n",
       "      <th>2</th>\n",
       "      <td>4.885196</td>\n",
       "      <td>0.0</td>\n",
       "      <td>1.0</td>\n",
       "      <td>0.0</td>\n",
       "      <td>0.0</td>\n",
       "      <td>0.0</td>\n",
       "      <td>0.0</td>\n",
       "      <td>910.0</td>\n",
       "      <td>-1.0</td>\n",
       "      <td>0.593750</td>\n",
       "      <td>...</td>\n",
       "      <td>0.349447</td>\n",
       "      <td>-0.155556</td>\n",
       "      <td>0.8</td>\n",
       "      <td>-0.166667</td>\n",
       "      <td>0.100000</td>\n",
       "      <td>0.166667</td>\n",
       "      <td>0.833333</td>\n",
       "      <td>0.000000</td>\n",
       "      <td>0.0</td>\n",
       "      <td>0</td>\n",
       "    </tr>\n",
       "    <tr>\n",
       "      <th>3</th>\n",
       "      <td>4.700146</td>\n",
       "      <td>1.0</td>\n",
       "      <td>0.0</td>\n",
       "      <td>0.0</td>\n",
       "      <td>0.0</td>\n",
       "      <td>0.0</td>\n",
       "      <td>0.0</td>\n",
       "      <td>444.0</td>\n",
       "      <td>4.0</td>\n",
       "      <td>0.661765</td>\n",
       "      <td>...</td>\n",
       "      <td>0.433588</td>\n",
       "      <td>-0.150000</td>\n",
       "      <td>1.0</td>\n",
       "      <td>-0.500000</td>\n",
       "      <td>0.100000</td>\n",
       "      <td>0.175000</td>\n",
       "      <td>0.825000</td>\n",
       "      <td>0.000000</td>\n",
       "      <td>0.0</td>\n",
       "      <td>1</td>\n",
       "    </tr>\n",
       "    <tr>\n",
       "      <th>4</th>\n",
       "      <td>4.817174</td>\n",
       "      <td>0.0</td>\n",
       "      <td>0.0</td>\n",
       "      <td>0.0</td>\n",
       "      <td>0.0</td>\n",
       "      <td>0.0</td>\n",
       "      <td>1.0</td>\n",
       "      <td>11000.0</td>\n",
       "      <td>-1.0</td>\n",
       "      <td>0.772947</td>\n",
       "      <td>...</td>\n",
       "      <td>0.396504</td>\n",
       "      <td>-0.187500</td>\n",
       "      <td>0.6</td>\n",
       "      <td>-0.600000</td>\n",
       "      <td>0.100000</td>\n",
       "      <td>0.150000</td>\n",
       "      <td>0.850000</td>\n",
       "      <td>0.000000</td>\n",
       "      <td>0.0</td>\n",
       "      <td>1</td>\n",
       "    </tr>\n",
       "  </tbody>\n",
       "</table>\n",
       "<p>5 rows × 60 columns</p>\n",
       "</div>"
      ],
      "text/plain": [
       "   average_token_length  data_channel_is_bus  data_channel_is_entertainment  \\\n",
       "0              4.720395                  0.0                            0.0   \n",
       "1              4.923646                  0.0                            0.0   \n",
       "2              4.885196                  0.0                            1.0   \n",
       "3              4.700146                  1.0                            0.0   \n",
       "4              4.817174                  0.0                            0.0   \n",
       "\n",
       "   data_channel_is_lifestyle  data_channel_is_socmed  data_channel_is_tech  \\\n",
       "0                        0.0                     0.0                   0.0   \n",
       "1                        0.0                     1.0                   0.0   \n",
       "2                        0.0                     0.0                   0.0   \n",
       "3                        0.0                     0.0                   0.0   \n",
       "4                        0.0                     0.0                   0.0   \n",
       "\n",
       "   data_channel_is_world  kw_max_min  kw_min_min  n_non_stop_unique_tokens  \\\n",
       "0                    0.0       530.0         4.0                  0.691943   \n",
       "1                    0.0      2000.0         4.0                  0.668033   \n",
       "2                    0.0       910.0        -1.0                  0.593750   \n",
       "3                    0.0       444.0         4.0                  0.661765   \n",
       "4                    1.0     11000.0        -1.0                  0.772947   \n",
       "\n",
       "       ...       global_subjectivity  max_negative_polarity  \\\n",
       "0      ...                  0.585143              -0.066667   \n",
       "1      ...                  0.370909              -0.100000   \n",
       "2      ...                  0.349447              -0.155556   \n",
       "3      ...                  0.433588              -0.150000   \n",
       "4      ...                  0.396504              -0.187500   \n",
       "\n",
       "   max_positive_polarity  min_negative_polarity  min_positive_polarity  \\\n",
       "0                    1.0              -0.500000               0.100000   \n",
       "1                    1.0              -0.500000               0.033333   \n",
       "2                    0.8              -0.166667               0.100000   \n",
       "3                    1.0              -0.500000               0.100000   \n",
       "4                    0.6              -0.600000               0.100000   \n",
       "\n",
       "   rate_negative_words  rate_positive_words  title_sentiment_polarity  \\\n",
       "0             0.347826             0.652174                 -0.066667   \n",
       "1             0.310345             0.689655                  0.000000   \n",
       "2             0.166667             0.833333                  0.000000   \n",
       "3             0.175000             0.825000                  0.000000   \n",
       "4             0.150000             0.850000                  0.000000   \n",
       "\n",
       "   title_subjectivity  shares_label  \n",
       "0                 0.6             1  \n",
       "1                 0.0             1  \n",
       "2                 0.0             0  \n",
       "3                 0.0             1  \n",
       "4                 0.0             1  \n",
       "\n",
       "[5 rows x 60 columns]"
      ]
     },
     "execution_count": 28,
     "metadata": {},
     "output_type": "execute_result"
    }
   ],
   "source": [
    "df.head()"
   ]
  },
  {
   "cell_type": "markdown",
   "metadata": {},
   "source": [
    "## Support Vector Machine Algorithm"
   ]
  },
  {
   "cell_type": "code",
   "execution_count": 29,
   "metadata": {
    "collapsed": true
   },
   "outputs": [],
   "source": [
    "X_train, X_test, y_train, y_test = train_test_split(df.drop(u'shares_label',axis=1), \n",
    "                                                     df[u'shares_label'], test_size=0.25,shuffle=True)"
   ]
  },
  {
   "cell_type": "markdown",
   "metadata": {},
   "source": [
    "## Standard Scaling prior to SVM fit\n"
   ]
  },
  {
   "cell_type": "code",
   "execution_count": 30,
   "metadata": {
    "collapsed": true
   },
   "outputs": [],
   "source": [
    "scaler = StandardScaler()\n",
    "scaler.fit(X_train)\n",
    "\n",
    "X_train = scaler.transform(X_train)\n",
    "X_test = scaler.transform(X_test)"
   ]
  },
  {
   "cell_type": "markdown",
   "metadata": {},
   "source": [
    "## Gridsearch to find best Kernel and C parameter"
   ]
  },
  {
   "cell_type": "code",
   "execution_count": 31,
   "metadata": {},
   "outputs": [
    {
     "name": "stdout",
     "output_type": "stream",
     "text": [
      "Fitting 4 folds for each of 1 candidates, totalling 4 fits\n",
      "[CV] C=1, kernel=rbf .................................................\n",
      "[CV] .................................. C=1, kernel=rbf, total=  57.6s\n",
      "[CV] C=1, kernel=rbf .................................................\n"
     ]
    },
    {
     "name": "stderr",
     "output_type": "stream",
     "text": [
      "[Parallel(n_jobs=1)]: Done   1 out of   1 | elapsed:  1.4min remaining:    0.0s\n"
     ]
    },
    {
     "name": "stdout",
     "output_type": "stream",
     "text": [
      "[CV] .................................. C=1, kernel=rbf, total=  56.3s\n",
      "[CV] C=1, kernel=rbf .................................................\n",
      "[CV] .................................. C=1, kernel=rbf, total=  55.2s\n",
      "[CV] C=1, kernel=rbf .................................................\n",
      "[CV] .................................. C=1, kernel=rbf, total=  55.3s\n"
     ]
    },
    {
     "name": "stderr",
     "output_type": "stream",
     "text": [
      "[Parallel(n_jobs=1)]: Done   4 out of   4 | elapsed:  5.4min finished\n"
     ]
    },
    {
     "name": "stdout",
     "output_type": "stream",
     "text": [
      "CPU times: user 6min 58s, sys: 2.3 s, total: 7min\n",
      "Wall time: 7min 3s\n"
     ]
    }
   ],
   "source": [
    "%%time\n",
    "svc = svm.SVC()\n",
    "parameter_opt = {'kernel':['rbf'],'C':[1]}\n",
    "\n",
    "clf = GridSearchCV(svc, param_grid=parameter_opt,cv=4,verbose=2)\n",
    "clf.fit(X_train, y_train)"
   ]
  },
  {
   "cell_type": "markdown",
   "metadata": {},
   "source": [
    "## Result after training with best parameters"
   ]
  },
  {
   "cell_type": "code",
   "execution_count": 33,
   "metadata": {},
   "outputs": [
    {
     "name": "stdout",
     "output_type": "stream",
     "text": [
      "Best score for data1: 0.671139810984\n"
     ]
    }
   ],
   "source": [
    "print('Best score for data1:', clf.best_score_) "
   ]
  },
  {
   "cell_type": "code",
   "execution_count": 35,
   "metadata": {},
   "outputs": [
    {
     "name": "stdout",
     "output_type": "stream",
     "text": [
      "Detailed classification report for C-SVM:\n",
      "\n",
      "The model is trained on the full development set.\n",
      "The scores are computed on the full test set.\n",
      "\n",
      "             precision    recall  f1-score   support\n",
      "\n",
      "          0       0.63      0.56      0.59      4149\n",
      "          1       0.71      0.76      0.73      5762\n",
      "\n",
      "avg / total       0.68      0.68      0.68      9911\n",
      "\n"
     ]
    }
   ],
   "source": [
    "print(\"Detailed classification report for C-SVM:\")\n",
    "print()\n",
    "print(\"The model is trained on the full development set.\")\n",
    "print(\"The scores are computed on the full test set.\")\n",
    "print()\n",
    "y_true, y_pred = y_test, clf.predict(X_test)\n",
    "print(classification_report(y_true, y_pred))"
   ]
  },
  {
   "cell_type": "markdown",
   "metadata": {},
   "source": [
    "### Neural Network Algorithm: Multilayer perceptron(MLP)"
   ]
  },
  {
   "cell_type": "code",
   "execution_count": 36,
   "metadata": {
    "collapsed": true
   },
   "outputs": [],
   "source": [
    "Train=df.sample(frac=0.8,axis=0)\n",
    "Test=df.drop(Train.index)\n",
    "\n",
    "X_train_nn, X_valid_nn, y_train_nn, y_valid_nn = train_test_split(Train.drop(u'shares_label',axis=1), \n",
    "                                                     Train[u'shares_label'], test_size=0.25,shuffle=True)\n",
    "\n",
    "scaler = StandardScaler()\n",
    "scaler.fit(X_train_nn)\n",
    "\n",
    "X_train_nn = scaler.transform(X_train_nn)\n",
    "X_valid_nn = scaler.transform(X_valid_nn)\n",
    "\n",
    "X_test_nn = scaler.transform(Test.drop(u'shares_label',axis=1))\n",
    "y_test_nn=Test[u'shares_label']"
   ]
  },
  {
   "cell_type": "code",
   "execution_count": 37,
   "metadata": {},
   "outputs": [
    {
     "data": {
      "text/plain": [
       "(23786, 59)"
      ]
     },
     "execution_count": 37,
     "metadata": {},
     "output_type": "execute_result"
    }
   ],
   "source": [
    "X_train_nn.shape"
   ]
  },
  {
   "cell_type": "markdown",
   "metadata": {},
   "source": [
    "## Design Neural network layers and perceptrones with regularization"
   ]
  },
  {
   "cell_type": "code",
   "execution_count": 38,
   "metadata": {
    "collapsed": true
   },
   "outputs": [],
   "source": [
    "model = Sequential()\n",
    "model.add(Dense(32, input_dim=59, kernel_initializer='normal', activation='tanh'))\n",
    "model.add(Dropout(0.5))\n",
    "model.add(Dense(32,kernel_initializer='normal', activation='relu'))\n",
    "model.add(Dropout(0.5))\n",
    "model.add(Dense(1, kernel_initializer='normal', activation='sigmoid'))\n",
    "model.compile(loss='binary_crossentropy', optimizer='adam', metrics=['accuracy'])"
   ]
  },
  {
   "cell_type": "code",
   "execution_count": 39,
   "metadata": {},
   "outputs": [
    {
     "name": "stdout",
     "output_type": "stream",
     "text": [
      "Train on 23786 samples, validate on 7929 samples\n",
      "Epoch 1/200\n",
      "23786/23786 [==============================] - 1s 33us/step - loss: 0.6500 - acc: 0.6179 - val_loss: 0.6186 - val_acc: 0.6582\n",
      "Epoch 2/200\n",
      "23786/23786 [==============================] - 0s 14us/step - loss: 0.6247 - acc: 0.6574 - val_loss: 0.6130 - val_acc: 0.6663\n",
      "Epoch 3/200\n",
      "23786/23786 [==============================] - 0s 14us/step - loss: 0.6213 - acc: 0.6574 - val_loss: 0.6106 - val_acc: 0.6677\n",
      "Epoch 4/200\n",
      "23786/23786 [==============================] - 0s 14us/step - loss: 0.6180 - acc: 0.6609 - val_loss: 0.6092 - val_acc: 0.6686\n",
      "Epoch 5/200\n",
      "23786/23786 [==============================] - 0s 18us/step - loss: 0.6169 - acc: 0.6627 - val_loss: 0.6077 - val_acc: 0.6715\n",
      "Epoch 6/200\n",
      "23786/23786 [==============================] - 0s 16us/step - loss: 0.6171 - acc: 0.6631 - val_loss: 0.6087 - val_acc: 0.6707\n",
      "Epoch 7/200\n",
      "23786/23786 [==============================] - 0s 14us/step - loss: 0.6149 - acc: 0.6642 - val_loss: 0.6060 - val_acc: 0.6716\n",
      "Epoch 8/200\n",
      "23786/23786 [==============================] - 0s 14us/step - loss: 0.6152 - acc: 0.6656 - val_loss: 0.6053 - val_acc: 0.6707\n",
      "Epoch 9/200\n",
      "23786/23786 [==============================] - 0s 14us/step - loss: 0.6157 - acc: 0.6642 - val_loss: 0.6056 - val_acc: 0.6698\n",
      "Epoch 10/200\n",
      "23786/23786 [==============================] - 0s 14us/step - loss: 0.6131 - acc: 0.6663 - val_loss: 0.6047 - val_acc: 0.6726\n",
      "Epoch 11/200\n",
      "23786/23786 [==============================] - 0s 14us/step - loss: 0.6131 - acc: 0.6665 - val_loss: 0.6046 - val_acc: 0.6717\n",
      "Epoch 12/200\n",
      "23786/23786 [==============================] - 0s 16us/step - loss: 0.6135 - acc: 0.6655 - val_loss: 0.6053 - val_acc: 0.6721\n",
      "Epoch 13/200\n",
      "23786/23786 [==============================] - 0s 14us/step - loss: 0.6120 - acc: 0.6685 - val_loss: 0.6035 - val_acc: 0.6713\n",
      "Epoch 14/200\n",
      "23786/23786 [==============================] - 0s 15us/step - loss: 0.6125 - acc: 0.6663 - val_loss: 0.6030 - val_acc: 0.6735\n",
      "Epoch 15/200\n",
      "23786/23786 [==============================] - 0s 14us/step - loss: 0.6111 - acc: 0.6694 - val_loss: 0.6036 - val_acc: 0.6732\n",
      "Epoch 16/200\n",
      "23786/23786 [==============================] - 0s 14us/step - loss: 0.6131 - acc: 0.6658 - val_loss: 0.6042 - val_acc: 0.6732\n",
      "Epoch 17/200\n",
      "23786/23786 [==============================] - 0s 14us/step - loss: 0.6118 - acc: 0.6687 - val_loss: 0.6039 - val_acc: 0.6730\n",
      "Epoch 18/200\n",
      "23786/23786 [==============================] - 0s 14us/step - loss: 0.6123 - acc: 0.6692 - val_loss: 0.6032 - val_acc: 0.6747\n",
      "Epoch 19/200\n",
      "23786/23786 [==============================] - 0s 16us/step - loss: 0.6120 - acc: 0.6675 - val_loss: 0.6027 - val_acc: 0.6741\n",
      "Epoch 20/200\n",
      "23786/23786 [==============================] - 0s 17us/step - loss: 0.6105 - acc: 0.6706 - val_loss: 0.6032 - val_acc: 0.6745\n",
      "Epoch 21/200\n",
      "23786/23786 [==============================] - 0s 17us/step - loss: 0.6103 - acc: 0.6701 - val_loss: 0.6033 - val_acc: 0.6745\n",
      "Epoch 22/200\n",
      "23786/23786 [==============================] - 0s 16us/step - loss: 0.6099 - acc: 0.6689 - val_loss: 0.6020 - val_acc: 0.6735\n",
      "Epoch 23/200\n",
      "23786/23786 [==============================] - 0s 16us/step - loss: 0.6096 - acc: 0.6675 - val_loss: 0.6018 - val_acc: 0.6745\n",
      "Epoch 24/200\n",
      "23786/23786 [==============================] - 0s 14us/step - loss: 0.6088 - acc: 0.6677 - val_loss: 0.6025 - val_acc: 0.6742\n",
      "Epoch 25/200\n",
      "23786/23786 [==============================] - 0s 15us/step - loss: 0.6096 - acc: 0.6691 - val_loss: 0.6027 - val_acc: 0.6744\n",
      "Epoch 26/200\n",
      "23786/23786 [==============================] - 0s 14us/step - loss: 0.6082 - acc: 0.6709 - val_loss: 0.6021 - val_acc: 0.6736\n",
      "Epoch 27/200\n",
      "23786/23786 [==============================] - 0s 14us/step - loss: 0.6094 - acc: 0.6691 - val_loss: 0.6021 - val_acc: 0.6760\n",
      "Epoch 28/200\n",
      "23786/23786 [==============================] - 0s 15us/step - loss: 0.6089 - acc: 0.6676 - val_loss: 0.6020 - val_acc: 0.6756\n",
      "Epoch 29/200\n",
      "23786/23786 [==============================] - 0s 15us/step - loss: 0.6105 - acc: 0.6689 - val_loss: 0.6019 - val_acc: 0.6741\n",
      "Epoch 30/200\n",
      "23786/23786 [==============================] - 0s 16us/step - loss: 0.6079 - acc: 0.6696 - val_loss: 0.6024 - val_acc: 0.6712\n",
      "Epoch 31/200\n",
      "23786/23786 [==============================] - 0s 15us/step - loss: 0.6095 - acc: 0.6688 - val_loss: 0.6011 - val_acc: 0.6720\n",
      "Epoch 32/200\n",
      "23786/23786 [==============================] - 0s 14us/step - loss: 0.6098 - acc: 0.6689 - val_loss: 0.6022 - val_acc: 0.6739\n",
      "Epoch 33/200\n",
      "23786/23786 [==============================] - 0s 17us/step - loss: 0.6082 - acc: 0.6706 - val_loss: 0.6013 - val_acc: 0.6725\n",
      "Epoch 34/200\n",
      "23786/23786 [==============================] - 0s 16us/step - loss: 0.6099 - acc: 0.6694 - val_loss: 0.6018 - val_acc: 0.6707\n",
      "Epoch 35/200\n",
      "23786/23786 [==============================] - 0s 16us/step - loss: 0.6082 - acc: 0.6700 - val_loss: 0.6015 - val_acc: 0.6742\n",
      "Epoch 36/200\n",
      "23786/23786 [==============================] - 0s 15us/step - loss: 0.6082 - acc: 0.6705 - val_loss: 0.6011 - val_acc: 0.6727\n",
      "Epoch 37/200\n",
      "23786/23786 [==============================] - 0s 14us/step - loss: 0.6086 - acc: 0.6667 - val_loss: 0.6012 - val_acc: 0.6740\n",
      "Epoch 38/200\n",
      "23786/23786 [==============================] - 0s 15us/step - loss: 0.6068 - acc: 0.6694 - val_loss: 0.6008 - val_acc: 0.6722\n",
      "Epoch 39/200\n",
      "23786/23786 [==============================] - 0s 18us/step - loss: 0.6083 - acc: 0.6695 - val_loss: 0.6009 - val_acc: 0.6739\n",
      "Epoch 40/200\n",
      "23786/23786 [==============================] - 0s 17us/step - loss: 0.6086 - acc: 0.6679 - val_loss: 0.6002 - val_acc: 0.6744\n",
      "Epoch 41/200\n",
      "23786/23786 [==============================] - 0s 16us/step - loss: 0.6086 - acc: 0.6708 - val_loss: 0.6003 - val_acc: 0.6754\n",
      "Epoch 42/200\n",
      "23786/23786 [==============================] - 0s 16us/step - loss: 0.6076 - acc: 0.6688 - val_loss: 0.6007 - val_acc: 0.6745\n",
      "Epoch 43/200\n",
      "23786/23786 [==============================] - 0s 16us/step - loss: 0.6089 - acc: 0.6692 - val_loss: 0.6000 - val_acc: 0.6764\n",
      "Epoch 44/200\n",
      "23786/23786 [==============================] - 0s 16us/step - loss: 0.6075 - acc: 0.6742 - val_loss: 0.5998 - val_acc: 0.6754\n",
      "Epoch 45/200\n",
      "23786/23786 [==============================] - 0s 16us/step - loss: 0.6075 - acc: 0.6725 - val_loss: 0.6008 - val_acc: 0.6745\n",
      "Epoch 46/200\n",
      "23786/23786 [==============================] - 0s 14us/step - loss: 0.6077 - acc: 0.6696 - val_loss: 0.6004 - val_acc: 0.6746\n",
      "Epoch 47/200\n",
      "23786/23786 [==============================] - 0s 14us/step - loss: 0.6071 - acc: 0.6693 - val_loss: 0.6003 - val_acc: 0.6759\n",
      "Epoch 48/200\n",
      "23786/23786 [==============================] - 0s 14us/step - loss: 0.6050 - acc: 0.6708 - val_loss: 0.6004 - val_acc: 0.6744\n",
      "Epoch 49/200\n",
      "23786/23786 [==============================] - 0s 14us/step - loss: 0.6065 - acc: 0.6715 - val_loss: 0.5996 - val_acc: 0.6754\n",
      "Epoch 50/200\n",
      "23786/23786 [==============================] - 0s 15us/step - loss: 0.6084 - acc: 0.6687 - val_loss: 0.6005 - val_acc: 0.6737\n",
      "Epoch 51/200\n",
      "23786/23786 [==============================] - 0s 17us/step - loss: 0.6083 - acc: 0.6696 - val_loss: 0.6008 - val_acc: 0.6735\n",
      "Epoch 52/200\n",
      "23786/23786 [==============================] - 0s 17us/step - loss: 0.6052 - acc: 0.6697 - val_loss: 0.5994 - val_acc: 0.6735\n",
      "Epoch 53/200\n",
      "23786/23786 [==============================] - 0s 17us/step - loss: 0.6071 - acc: 0.6715 - val_loss: 0.5998 - val_acc: 0.6752\n",
      "Epoch 54/200\n",
      "23786/23786 [==============================] - 0s 17us/step - loss: 0.6068 - acc: 0.6701 - val_loss: 0.5995 - val_acc: 0.6747\n",
      "Epoch 55/200\n",
      "23786/23786 [==============================] - 0s 16us/step - loss: 0.6063 - acc: 0.6690 - val_loss: 0.5998 - val_acc: 0.6731\n",
      "Epoch 56/200\n",
      "23786/23786 [==============================] - 0s 14us/step - loss: 0.6077 - acc: 0.6710 - val_loss: 0.6003 - val_acc: 0.6744\n",
      "Epoch 57/200\n",
      "23786/23786 [==============================] - 0s 15us/step - loss: 0.6067 - acc: 0.6701 - val_loss: 0.5993 - val_acc: 0.6736\n",
      "Epoch 58/200\n",
      "23786/23786 [==============================] - 0s 16us/step - loss: 0.6040 - acc: 0.6715 - val_loss: 0.5989 - val_acc: 0.6750\n",
      "Epoch 59/200\n",
      "23786/23786 [==============================] - 0s 16us/step - loss: 0.6052 - acc: 0.6721 - val_loss: 0.6011 - val_acc: 0.6725\n",
      "Epoch 60/200\n",
      "23786/23786 [==============================] - 0s 16us/step - loss: 0.6062 - acc: 0.6701 - val_loss: 0.6004 - val_acc: 0.6725\n",
      "Epoch 61/200\n",
      "23786/23786 [==============================] - 0s 14us/step - loss: 0.6066 - acc: 0.6701 - val_loss: 0.5987 - val_acc: 0.6744\n",
      "Epoch 62/200\n",
      "23786/23786 [==============================] - 0s 14us/step - loss: 0.6053 - acc: 0.6704 - val_loss: 0.5989 - val_acc: 0.6727\n",
      "Epoch 63/200\n",
      "23786/23786 [==============================] - 0s 14us/step - loss: 0.6051 - acc: 0.6689 - val_loss: 0.5984 - val_acc: 0.6756\n",
      "Epoch 64/200\n",
      "23786/23786 [==============================] - 0s 15us/step - loss: 0.6056 - acc: 0.6741 - val_loss: 0.5995 - val_acc: 0.6727\n",
      "Epoch 65/200\n",
      "23786/23786 [==============================] - 0s 18us/step - loss: 0.6048 - acc: 0.6701 - val_loss: 0.5989 - val_acc: 0.6757\n",
      "Epoch 66/200\n",
      "23786/23786 [==============================] - 0s 16us/step - loss: 0.6061 - acc: 0.6720 - val_loss: 0.5984 - val_acc: 0.6756\n",
      "Epoch 67/200\n",
      "23786/23786 [==============================] - 0s 13us/step - loss: 0.6048 - acc: 0.6719 - val_loss: 0.5992 - val_acc: 0.6744\n",
      "Epoch 68/200\n",
      "23786/23786 [==============================] - 0s 14us/step - loss: 0.6062 - acc: 0.6707 - val_loss: 0.5980 - val_acc: 0.6765\n",
      "Epoch 69/200\n",
      "23786/23786 [==============================] - 0s 14us/step - loss: 0.6057 - acc: 0.6701 - val_loss: 0.5985 - val_acc: 0.6734\n",
      "Epoch 70/200\n",
      "23786/23786 [==============================] - 0s 15us/step - loss: 0.6046 - acc: 0.6743 - val_loss: 0.5981 - val_acc: 0.6747\n",
      "Epoch 71/200\n",
      "23786/23786 [==============================] - 0s 14us/step - loss: 0.6046 - acc: 0.6706 - val_loss: 0.5990 - val_acc: 0.6759\n",
      "Epoch 72/200\n",
      "23786/23786 [==============================] - 0s 19us/step - loss: 0.6047 - acc: 0.6718 - val_loss: 0.5986 - val_acc: 0.6752\n",
      "Epoch 73/200\n",
      "23786/23786 [==============================] - 0s 12us/step - loss: 0.6051 - acc: 0.6696 - val_loss: 0.5989 - val_acc: 0.6776\n",
      "Epoch 74/200\n",
      "23786/23786 [==============================] - 0s 12us/step - loss: 0.6056 - acc: 0.6709 - val_loss: 0.5991 - val_acc: 0.6752\n",
      "Epoch 75/200\n",
      "23786/23786 [==============================] - 0s 13us/step - loss: 0.6050 - acc: 0.6691 - val_loss: 0.5989 - val_acc: 0.6735\n",
      "Epoch 76/200\n",
      "23786/23786 [==============================] - 0s 14us/step - loss: 0.6062 - acc: 0.6681 - val_loss: 0.5986 - val_acc: 0.6742\n",
      "Epoch 77/200\n",
      "23786/23786 [==============================] - 0s 12us/step - loss: 0.6051 - acc: 0.6717 - val_loss: 0.5978 - val_acc: 0.6768\n",
      "Epoch 78/200\n",
      "23786/23786 [==============================] - 0s 13us/step - loss: 0.6052 - acc: 0.6715 - val_loss: 0.5978 - val_acc: 0.6751\n",
      "Epoch 79/200\n",
      "23786/23786 [==============================] - 0s 13us/step - loss: 0.6067 - acc: 0.6694 - val_loss: 0.5983 - val_acc: 0.6770\n",
      "Epoch 80/200\n",
      "23786/23786 [==============================] - 0s 15us/step - loss: 0.6054 - acc: 0.6724 - val_loss: 0.5987 - val_acc: 0.6773\n",
      "Epoch 81/200\n",
      "23786/23786 [==============================] - 0s 14us/step - loss: 0.6038 - acc: 0.6717 - val_loss: 0.5987 - val_acc: 0.6776\n",
      "Epoch 82/200\n",
      "23786/23786 [==============================] - 0s 13us/step - loss: 0.6040 - acc: 0.6719 - val_loss: 0.5991 - val_acc: 0.6755\n",
      "Epoch 83/200\n",
      "23786/23786 [==============================] - 0s 13us/step - loss: 0.6054 - acc: 0.6720 - val_loss: 0.5981 - val_acc: 0.6759\n",
      "Epoch 84/200\n",
      "23786/23786 [==============================] - 0s 13us/step - loss: 0.6042 - acc: 0.6730 - val_loss: 0.5976 - val_acc: 0.6780\n",
      "Epoch 85/200\n",
      "23786/23786 [==============================] - 0s 13us/step - loss: 0.6047 - acc: 0.6719 - val_loss: 0.5981 - val_acc: 0.6763\n",
      "Epoch 86/200\n",
      "23786/23786 [==============================] - 0s 13us/step - loss: 0.6042 - acc: 0.6712 - val_loss: 0.5980 - val_acc: 0.6778\n",
      "Epoch 87/200\n",
      "23786/23786 [==============================] - 0s 19us/step - loss: 0.6060 - acc: 0.6704 - val_loss: 0.5985 - val_acc: 0.6757\n",
      "Epoch 88/200\n",
      "23786/23786 [==============================] - 0s 15us/step - loss: 0.6044 - acc: 0.6716 - val_loss: 0.5987 - val_acc: 0.6784\n",
      "Epoch 89/200\n",
      "23786/23786 [==============================] - 0s 13us/step - loss: 0.6017 - acc: 0.6751 - val_loss: 0.5981 - val_acc: 0.6755\n",
      "Epoch 90/200\n",
      "23786/23786 [==============================] - 0s 14us/step - loss: 0.6046 - acc: 0.6719 - val_loss: 0.5989 - val_acc: 0.6759\n",
      "Epoch 91/200\n",
      "23786/23786 [==============================] - 0s 14us/step - loss: 0.6047 - acc: 0.6722 - val_loss: 0.5978 - val_acc: 0.6756\n",
      "Epoch 92/200\n",
      "23786/23786 [==============================] - 0s 13us/step - loss: 0.6039 - acc: 0.6728 - val_loss: 0.5980 - val_acc: 0.6764\n",
      "Epoch 93/200\n",
      "23786/23786 [==============================] - 0s 14us/step - loss: 0.6041 - acc: 0.6727 - val_loss: 0.5978 - val_acc: 0.6749\n",
      "Epoch 94/200\n",
      "23786/23786 [==============================] - 0s 13us/step - loss: 0.6034 - acc: 0.6741 - val_loss: 0.5976 - val_acc: 0.6779\n",
      "Epoch 95/200\n",
      "23786/23786 [==============================] - 0s 13us/step - loss: 0.6025 - acc: 0.6726 - val_loss: 0.5976 - val_acc: 0.6765\n",
      "Epoch 96/200\n",
      "23786/23786 [==============================] - 0s 13us/step - loss: 0.6044 - acc: 0.6715 - val_loss: 0.5980 - val_acc: 0.6773\n",
      "Epoch 97/200\n",
      "23786/23786 [==============================] - 0s 13us/step - loss: 0.6051 - acc: 0.6734 - val_loss: 0.5977 - val_acc: 0.6747\n",
      "Epoch 98/200\n",
      "23786/23786 [==============================] - 0s 13us/step - loss: 0.6024 - acc: 0.6731 - val_loss: 0.5976 - val_acc: 0.6747\n",
      "Epoch 99/200\n",
      "23786/23786 [==============================] - 0s 13us/step - loss: 0.6042 - acc: 0.6739 - val_loss: 0.5969 - val_acc: 0.6750\n",
      "Epoch 100/200\n",
      "23786/23786 [==============================] - 0s 13us/step - loss: 0.6022 - acc: 0.6735 - val_loss: 0.5969 - val_acc: 0.6755\n",
      "Epoch 101/200\n",
      "23786/23786 [==============================] - 0s 13us/step - loss: 0.6020 - acc: 0.6746 - val_loss: 0.5972 - val_acc: 0.6754\n",
      "Epoch 102/200\n",
      "23786/23786 [==============================] - 0s 13us/step - loss: 0.6040 - acc: 0.6720 - val_loss: 0.5977 - val_acc: 0.6752\n",
      "Epoch 103/200\n",
      "23786/23786 [==============================] - 0s 13us/step - loss: 0.6044 - acc: 0.6751 - val_loss: 0.5991 - val_acc: 0.6741\n",
      "Epoch 104/200\n",
      "23786/23786 [==============================] - 0s 14us/step - loss: 0.6018 - acc: 0.6740 - val_loss: 0.5973 - val_acc: 0.6771\n",
      "Epoch 105/200\n",
      "23786/23786 [==============================] - 0s 12us/step - loss: 0.6020 - acc: 0.6727 - val_loss: 0.5973 - val_acc: 0.6747\n",
      "Epoch 106/200\n",
      "23786/23786 [==============================] - 0s 12us/step - loss: 0.6033 - acc: 0.6742 - val_loss: 0.5979 - val_acc: 0.6774\n",
      "Epoch 107/200\n",
      "23786/23786 [==============================] - 0s 12us/step - loss: 0.6043 - acc: 0.6725 - val_loss: 0.5971 - val_acc: 0.6779\n",
      "Epoch 108/200\n",
      "23786/23786 [==============================] - 0s 12us/step - loss: 0.6028 - acc: 0.6738 - val_loss: 0.5973 - val_acc: 0.6765\n",
      "Epoch 109/200\n",
      "23786/23786 [==============================] - 0s 12us/step - loss: 0.6019 - acc: 0.6731 - val_loss: 0.5967 - val_acc: 0.6773\n",
      "Epoch 110/200\n",
      "23786/23786 [==============================] - 0s 12us/step - loss: 0.6020 - acc: 0.6741 - val_loss: 0.5977 - val_acc: 0.6750\n",
      "Epoch 111/200\n",
      "23786/23786 [==============================] - 0s 12us/step - loss: 0.6021 - acc: 0.6719 - val_loss: 0.5972 - val_acc: 0.6778\n",
      "Epoch 112/200\n",
      "23786/23786 [==============================] - 0s 12us/step - loss: 0.6032 - acc: 0.6722 - val_loss: 0.5973 - val_acc: 0.6776\n",
      "Epoch 113/200\n",
      "23786/23786 [==============================] - 0s 12us/step - loss: 0.6029 - acc: 0.6750 - val_loss: 0.5969 - val_acc: 0.6756\n",
      "Epoch 114/200\n",
      "23786/23786 [==============================] - 0s 13us/step - loss: 0.6001 - acc: 0.6733 - val_loss: 0.5966 - val_acc: 0.6773\n",
      "Epoch 115/200\n",
      "23786/23786 [==============================] - 0s 12us/step - loss: 0.6020 - acc: 0.6728 - val_loss: 0.5973 - val_acc: 0.6754\n",
      "Epoch 116/200\n",
      "23786/23786 [==============================] - 0s 13us/step - loss: 0.6031 - acc: 0.6742 - val_loss: 0.5964 - val_acc: 0.6771\n",
      "Epoch 117/200\n",
      "23786/23786 [==============================] - 0s 12us/step - loss: 0.6019 - acc: 0.6780 - val_loss: 0.5979 - val_acc: 0.6764\n"
     ]
    },
    {
     "name": "stdout",
     "output_type": "stream",
     "text": [
      "Epoch 118/200\n",
      "23786/23786 [==============================] - 0s 12us/step - loss: 0.6036 - acc: 0.6756 - val_loss: 0.5981 - val_acc: 0.6765\n",
      "Epoch 119/200\n",
      "23786/23786 [==============================] - 0s 12us/step - loss: 0.6020 - acc: 0.6735 - val_loss: 0.5989 - val_acc: 0.6760\n",
      "Epoch 120/200\n",
      "23786/23786 [==============================] - 0s 12us/step - loss: 0.6029 - acc: 0.6700 - val_loss: 0.5969 - val_acc: 0.6778\n",
      "Epoch 121/200\n",
      "23786/23786 [==============================] - 0s 12us/step - loss: 0.6021 - acc: 0.6732 - val_loss: 0.5976 - val_acc: 0.6769\n",
      "Epoch 122/200\n",
      "23786/23786 [==============================] - 0s 12us/step - loss: 0.6008 - acc: 0.6739 - val_loss: 0.5982 - val_acc: 0.6764\n",
      "Epoch 123/200\n",
      "23786/23786 [==============================] - 0s 12us/step - loss: 0.6007 - acc: 0.6752 - val_loss: 0.5973 - val_acc: 0.6751\n",
      "Epoch 124/200\n",
      "23786/23786 [==============================] - 0s 12us/step - loss: 0.6008 - acc: 0.6730 - val_loss: 0.5968 - val_acc: 0.6788\n",
      "Epoch 125/200\n",
      "23786/23786 [==============================] - 0s 13us/step - loss: 0.6028 - acc: 0.6712 - val_loss: 0.5980 - val_acc: 0.6765\n",
      "Epoch 126/200\n",
      "23786/23786 [==============================] - 0s 13us/step - loss: 0.6010 - acc: 0.6746 - val_loss: 0.5980 - val_acc: 0.6750\n",
      "Epoch 127/200\n",
      "23786/23786 [==============================] - 0s 13us/step - loss: 0.6023 - acc: 0.6717 - val_loss: 0.5970 - val_acc: 0.6761\n",
      "Epoch 128/200\n",
      "23786/23786 [==============================] - 0s 12us/step - loss: 0.6020 - acc: 0.6744 - val_loss: 0.5961 - val_acc: 0.6775\n",
      "Epoch 129/200\n",
      "23786/23786 [==============================] - 0s 13us/step - loss: 0.6027 - acc: 0.6755 - val_loss: 0.5976 - val_acc: 0.6749\n",
      "Epoch 130/200\n",
      "23786/23786 [==============================] - 0s 13us/step - loss: 0.6000 - acc: 0.6744 - val_loss: 0.5972 - val_acc: 0.6756\n",
      "Epoch 131/200\n",
      "23786/23786 [==============================] - 0s 12us/step - loss: 0.6008 - acc: 0.6740 - val_loss: 0.5972 - val_acc: 0.6770\n",
      "Epoch 132/200\n",
      "23786/23786 [==============================] - 0s 13us/step - loss: 0.6031 - acc: 0.6714 - val_loss: 0.5967 - val_acc: 0.6770\n",
      "Epoch 133/200\n",
      "23786/23786 [==============================] - 0s 12us/step - loss: 0.6029 - acc: 0.6743 - val_loss: 0.5959 - val_acc: 0.6785\n",
      "Epoch 134/200\n",
      "23786/23786 [==============================] - 0s 12us/step - loss: 0.6006 - acc: 0.6772 - val_loss: 0.5962 - val_acc: 0.6766\n",
      "Epoch 135/200\n",
      "23786/23786 [==============================] - 0s 12us/step - loss: 0.6013 - acc: 0.6754 - val_loss: 0.5973 - val_acc: 0.6763\n",
      "Epoch 136/200\n",
      "23786/23786 [==============================] - 0s 12us/step - loss: 0.6038 - acc: 0.6717 - val_loss: 0.5963 - val_acc: 0.6776\n",
      "Epoch 137/200\n",
      "23786/23786 [==============================] - 0s 12us/step - loss: 0.6009 - acc: 0.6745 - val_loss: 0.5963 - val_acc: 0.6759\n",
      "Epoch 138/200\n",
      "23786/23786 [==============================] - 0s 13us/step - loss: 0.6002 - acc: 0.6764 - val_loss: 0.5961 - val_acc: 0.6765\n",
      "Epoch 139/200\n",
      "23786/23786 [==============================] - 0s 12us/step - loss: 0.6019 - acc: 0.6729 - val_loss: 0.5967 - val_acc: 0.6779\n",
      "Epoch 140/200\n",
      "23786/23786 [==============================] - 0s 12us/step - loss: 0.6022 - acc: 0.6753 - val_loss: 0.5970 - val_acc: 0.6764\n",
      "Epoch 141/200\n",
      "23786/23786 [==============================] - 0s 12us/step - loss: 0.6000 - acc: 0.6727 - val_loss: 0.5970 - val_acc: 0.6766\n",
      "Epoch 142/200\n",
      "23786/23786 [==============================] - 0s 12us/step - loss: 0.6004 - acc: 0.6750 - val_loss: 0.5967 - val_acc: 0.6769\n",
      "Epoch 143/200\n",
      "23786/23786 [==============================] - 0s 12us/step - loss: 0.6003 - acc: 0.6751 - val_loss: 0.5959 - val_acc: 0.6781\n",
      "Epoch 144/200\n",
      "23786/23786 [==============================] - 0s 12us/step - loss: 0.6005 - acc: 0.6748 - val_loss: 0.5981 - val_acc: 0.6755\n",
      "Epoch 145/200\n",
      "23786/23786 [==============================] - 0s 12us/step - loss: 0.6019 - acc: 0.6738 - val_loss: 0.5962 - val_acc: 0.6760\n",
      "Epoch 146/200\n",
      "23786/23786 [==============================] - 0s 12us/step - loss: 0.5989 - acc: 0.6779 - val_loss: 0.5960 - val_acc: 0.6763\n",
      "Epoch 147/200\n",
      "23786/23786 [==============================] - 0s 12us/step - loss: 0.5993 - acc: 0.6749 - val_loss: 0.5968 - val_acc: 0.6751\n",
      "Epoch 148/200\n",
      "23786/23786 [==============================] - 0s 13us/step - loss: 0.6021 - acc: 0.6752 - val_loss: 0.5970 - val_acc: 0.6754\n",
      "Epoch 149/200\n",
      "23786/23786 [==============================] - 0s 12us/step - loss: 0.6019 - acc: 0.6759 - val_loss: 0.5967 - val_acc: 0.6749\n",
      "Epoch 150/200\n",
      "23786/23786 [==============================] - 0s 12us/step - loss: 0.6010 - acc: 0.6762 - val_loss: 0.5967 - val_acc: 0.6759\n",
      "Epoch 151/200\n",
      "23786/23786 [==============================] - 0s 12us/step - loss: 0.6008 - acc: 0.6739 - val_loss: 0.5958 - val_acc: 0.6779\n",
      "Epoch 152/200\n",
      "23786/23786 [==============================] - 0s 12us/step - loss: 0.6018 - acc: 0.6739 - val_loss: 0.5961 - val_acc: 0.6763\n",
      "Epoch 153/200\n",
      "23786/23786 [==============================] - 0s 12us/step - loss: 0.5993 - acc: 0.6721 - val_loss: 0.5967 - val_acc: 0.6769\n",
      "Epoch 154/200\n",
      "23786/23786 [==============================] - 0s 13us/step - loss: 0.6003 - acc: 0.6732 - val_loss: 0.5959 - val_acc: 0.6757\n",
      "Epoch 155/200\n",
      "23786/23786 [==============================] - 0s 13us/step - loss: 0.6007 - acc: 0.6740 - val_loss: 0.5965 - val_acc: 0.6757\n",
      "Epoch 156/200\n",
      "23786/23786 [==============================] - 0s 12us/step - loss: 0.6009 - acc: 0.6751 - val_loss: 0.5968 - val_acc: 0.6742\n",
      "Epoch 157/200\n",
      "23786/23786 [==============================] - 0s 12us/step - loss: 0.5996 - acc: 0.6718 - val_loss: 0.5961 - val_acc: 0.6750\n",
      "Epoch 158/200\n",
      "23786/23786 [==============================] - 0s 12us/step - loss: 0.6000 - acc: 0.6753 - val_loss: 0.5965 - val_acc: 0.6757\n",
      "Epoch 159/200\n",
      "23786/23786 [==============================] - 0s 12us/step - loss: 0.6006 - acc: 0.6764 - val_loss: 0.5963 - val_acc: 0.6759\n",
      "Epoch 160/200\n",
      "23786/23786 [==============================] - 0s 13us/step - loss: 0.6001 - acc: 0.6769 - val_loss: 0.5965 - val_acc: 0.6764\n",
      "Epoch 161/200\n",
      "23786/23786 [==============================] - 0s 12us/step - loss: 0.5993 - acc: 0.6761 - val_loss: 0.5964 - val_acc: 0.6757\n",
      "Epoch 162/200\n",
      "23786/23786 [==============================] - 0s 12us/step - loss: 0.6003 - acc: 0.6759 - val_loss: 0.5969 - val_acc: 0.6757\n",
      "Epoch 163/200\n",
      "23786/23786 [==============================] - 0s 12us/step - loss: 0.6006 - acc: 0.6783 - val_loss: 0.5965 - val_acc: 0.6764\n",
      "Epoch 164/200\n",
      "23786/23786 [==============================] - 0s 12us/step - loss: 0.6020 - acc: 0.6724 - val_loss: 0.5967 - val_acc: 0.6771\n",
      "Epoch 165/200\n",
      "23786/23786 [==============================] - 0s 12us/step - loss: 0.5987 - acc: 0.6759 - val_loss: 0.5962 - val_acc: 0.6759\n",
      "Epoch 166/200\n",
      "23786/23786 [==============================] - 0s 12us/step - loss: 0.5999 - acc: 0.6759 - val_loss: 0.5956 - val_acc: 0.6778\n",
      "Epoch 167/200\n",
      "23786/23786 [==============================] - 0s 12us/step - loss: 0.5991 - acc: 0.6742 - val_loss: 0.5970 - val_acc: 0.6765\n",
      "Epoch 168/200\n",
      "23786/23786 [==============================] - 0s 13us/step - loss: 0.5996 - acc: 0.6762 - val_loss: 0.5964 - val_acc: 0.6763\n",
      "Epoch 169/200\n",
      "23786/23786 [==============================] - 0s 12us/step - loss: 0.6005 - acc: 0.6756 - val_loss: 0.5967 - val_acc: 0.6763\n",
      "Epoch 170/200\n",
      "23786/23786 [==============================] - 0s 12us/step - loss: 0.5998 - acc: 0.6750 - val_loss: 0.5963 - val_acc: 0.6764\n",
      "Epoch 171/200\n",
      "23786/23786 [==============================] - 0s 12us/step - loss: 0.5996 - acc: 0.6783 - val_loss: 0.5961 - val_acc: 0.6780\n",
      "Epoch 172/200\n",
      "23786/23786 [==============================] - 0s 12us/step - loss: 0.6016 - acc: 0.6744 - val_loss: 0.5964 - val_acc: 0.6773\n",
      "Epoch 173/200\n",
      "23786/23786 [==============================] - 0s 12us/step - loss: 0.5979 - acc: 0.6767 - val_loss: 0.5963 - val_acc: 0.6759\n",
      "Epoch 174/200\n",
      "23786/23786 [==============================] - 0s 12us/step - loss: 0.6005 - acc: 0.6754 - val_loss: 0.5962 - val_acc: 0.6786\n",
      "Epoch 175/200\n",
      "23786/23786 [==============================] - 0s 12us/step - loss: 0.6011 - acc: 0.6739 - val_loss: 0.5966 - val_acc: 0.6764\n",
      "Epoch 176/200\n",
      "23786/23786 [==============================] - 0s 12us/step - loss: 0.6000 - acc: 0.6736 - val_loss: 0.5966 - val_acc: 0.6773\n",
      "Epoch 177/200\n",
      "23786/23786 [==============================] - 0s 12us/step - loss: 0.5975 - acc: 0.6770 - val_loss: 0.5966 - val_acc: 0.6749\n",
      "Epoch 178/200\n",
      "23786/23786 [==============================] - 0s 12us/step - loss: 0.6005 - acc: 0.6744 - val_loss: 0.5982 - val_acc: 0.6773\n",
      "Epoch 179/200\n",
      "23786/23786 [==============================] - 0s 12us/step - loss: 0.5997 - acc: 0.6773 - val_loss: 0.5970 - val_acc: 0.6769\n",
      "Epoch 180/200\n",
      "23786/23786 [==============================] - 0s 12us/step - loss: 0.6001 - acc: 0.6745 - val_loss: 0.5965 - val_acc: 0.6774\n",
      "Epoch 181/200\n",
      "23786/23786 [==============================] - 0s 12us/step - loss: 0.5975 - acc: 0.6746 - val_loss: 0.5963 - val_acc: 0.6771\n",
      "Epoch 182/200\n",
      "23786/23786 [==============================] - 0s 13us/step - loss: 0.5995 - acc: 0.6745 - val_loss: 0.5969 - val_acc: 0.6761\n",
      "Epoch 183/200\n",
      "23786/23786 [==============================] - 0s 14us/step - loss: 0.5993 - acc: 0.6775 - val_loss: 0.5971 - val_acc: 0.6774\n",
      "Epoch 184/200\n",
      "23786/23786 [==============================] - 0s 15us/step - loss: 0.5979 - acc: 0.6775 - val_loss: 0.5982 - val_acc: 0.6754\n",
      "Epoch 185/200\n",
      "23786/23786 [==============================] - 0s 14us/step - loss: 0.6001 - acc: 0.6756 - val_loss: 0.5975 - val_acc: 0.6751\n",
      "Epoch 186/200\n",
      "23786/23786 [==============================] - 0s 13us/step - loss: 0.5988 - acc: 0.6725 - val_loss: 0.5962 - val_acc: 0.6754\n",
      "Epoch 187/200\n",
      "23786/23786 [==============================] - 0s 13us/step - loss: 0.5999 - acc: 0.6766 - val_loss: 0.5962 - val_acc: 0.6763\n",
      "Epoch 188/200\n",
      "23786/23786 [==============================] - 0s 13us/step - loss: 0.6000 - acc: 0.6754 - val_loss: 0.5965 - val_acc: 0.6757\n",
      "Epoch 189/200\n",
      "23786/23786 [==============================] - 0s 12us/step - loss: 0.5989 - acc: 0.6764 - val_loss: 0.5962 - val_acc: 0.6761\n",
      "Epoch 190/200\n",
      "23786/23786 [==============================] - 0s 12us/step - loss: 0.6008 - acc: 0.6760 - val_loss: 0.5974 - val_acc: 0.6745\n",
      "Epoch 191/200\n",
      "23786/23786 [==============================] - 0s 13us/step - loss: 0.5984 - acc: 0.6779 - val_loss: 0.5973 - val_acc: 0.6752\n",
      "Epoch 192/200\n",
      "23786/23786 [==============================] - 0s 13us/step - loss: 0.5981 - acc: 0.6786 - val_loss: 0.5958 - val_acc: 0.6760\n",
      "Epoch 193/200\n",
      "23786/23786 [==============================] - 0s 13us/step - loss: 0.5992 - acc: 0.6747 - val_loss: 0.5964 - val_acc: 0.6752\n",
      "Epoch 194/200\n",
      "23786/23786 [==============================] - 0s 14us/step - loss: 0.5979 - acc: 0.6785 - val_loss: 0.5971 - val_acc: 0.6775\n",
      "Epoch 195/200\n",
      "23786/23786 [==============================] - 0s 12us/step - loss: 0.5982 - acc: 0.6783 - val_loss: 0.5964 - val_acc: 0.6773\n",
      "Epoch 196/200\n",
      "23786/23786 [==============================] - 0s 14us/step - loss: 0.5996 - acc: 0.6747 - val_loss: 0.5968 - val_acc: 0.6755\n",
      "Epoch 197/200\n",
      "23786/23786 [==============================] - 0s 13us/step - loss: 0.5991 - acc: 0.6757 - val_loss: 0.5970 - val_acc: 0.6768\n",
      "Epoch 198/200\n",
      "23786/23786 [==============================] - 0s 15us/step - loss: 0.5964 - acc: 0.6797 - val_loss: 0.5966 - val_acc: 0.6759\n",
      "Epoch 199/200\n",
      "23786/23786 [==============================] - 0s 13us/step - loss: 0.5972 - acc: 0.6775 - val_loss: 0.5964 - val_acc: 0.6751\n",
      "Epoch 200/200\n",
      "23786/23786 [==============================] - 0s 14us/step - loss: 0.5976 - acc: 0.6769 - val_loss: 0.5964 - val_acc: 0.6736\n"
     ]
    }
   ],
   "source": [
    "history=model.fit(X_train_nn, y_train_nn, epochs=200, batch_size=128,validation_data=(X_valid_nn, y_valid_nn))"
   ]
  },
  {
   "cell_type": "code",
   "execution_count": 40,
   "metadata": {},
   "outputs": [
    {
     "data": {
      "text/plain": [
       "dict_keys(['val_loss', 'val_acc', 'loss', 'acc'])"
      ]
     },
     "execution_count": 40,
     "metadata": {},
     "output_type": "execute_result"
    }
   ],
   "source": [
    "history_dict=history.history\n",
    "history.history.keys()"
   ]
  },
  {
   "cell_type": "markdown",
   "metadata": {},
   "source": [
    "## Comparing Training and Validation loss"
   ]
  },
  {
   "cell_type": "code",
   "execution_count": 41,
   "metadata": {},
   "outputs": [
    {
     "data": {
      "image/png": "[encoded data removed]",
      "text/plain": [
       "<matplotlib.figure.Figure at 0x1af556dba8>"
      ]
     },
     "metadata": {},
     "output_type": "display_data"
    }
   ],
   "source": [
    "loss_values = history_dict['loss']\n",
    "val_loss_values = history_dict['val_loss']\n",
    "epochs = range(1, len(loss_values) + 1)\n",
    "\n",
    "plt.plot(epochs, loss_values, 'r--',label='Train')\n",
    "plt.plot(epochs, val_loss_values, 'b-',label='Validation')\n",
    "plt.legend(fontsize=14)\n",
    "plt.yticks(size=14)\n",
    "plt.xticks(size=14)\n",
    "plt.xlabel('Epochs',size=16)\n",
    "plt.ylabel('Loss',size=16)\n",
    "plt.tight_layout()\n",
    "#plt.savefig('./shares.pdf')\n"
   ]
  },
  {
   "cell_type": "code",
   "execution_count": 42,
   "metadata": {
    "collapsed": true
   },
   "outputs": [],
   "source": [
    "y_pred_nn=model.predict_classes(X_test_nn)"
   ]
  },
  {
   "cell_type": "markdown",
   "metadata": {},
   "source": [
    "## Results after training with Neural Nets"
   ]
  },
  {
   "cell_type": "code",
   "execution_count": 43,
   "metadata": {},
   "outputs": [
    {
     "name": "stdout",
     "output_type": "stream",
     "text": [
      "Detailed classification report for Neural Network:\n",
      "\n",
      "             precision    recall  f1-score   support\n",
      "\n",
      "          0       0.64      0.50      0.56      3387\n",
      "          1       0.68      0.79      0.73      4542\n",
      "\n",
      "avg / total       0.66      0.67      0.66      7929\n",
      "\n"
     ]
    }
   ],
   "source": [
    "print(\"Detailed classification report for Neural Network:\")\n",
    "print()\n",
    "print(classification_report(y_test_nn, y_pred_nn))"
   ]
  },
  {
   "cell_type": "code",
   "execution_count": 44,
   "metadata": {},
   "outputs": [
    {
     "name": "stdout",
     "output_type": "stream",
     "text": [
      "Compute Area Under the Curve (AUC) 0.644200726299\n"
     ]
    }
   ],
   "source": [
    "print('Compute Area Under the Curve (AUC)', roc_auc_score(y_test_nn, y_pred_nn))"
   ]
  },
  {
   "cell_type": "markdown",
   "metadata": {},
   "source": [
    "## Accuracy plot after Epochs"
   ]
  },
  {
   "cell_type": "code",
   "execution_count": 45,
   "metadata": {},
   "outputs": [
    {
     "data": {
      "image/png": "[encoded data removed]",
      "text/plain": [
       "<matplotlib.figure.Figure at 0x1af5619940>"
      ]
     },
     "metadata": {},
     "output_type": "display_data"
    }
   ],
   "source": [
    "acc_values = history_dict['acc']\n",
    "val_acc_values = history_dict['val_acc']\n",
    "\n",
    "plt.plot(epochs, acc_values, 'r--',label='Train')\n",
    "plt.plot(epochs, val_acc_values, 'b-',label='Validation')\n",
    "plt.legend(fontsize=14)\n",
    "plt.yticks(size=14)\n",
    "plt.xticks(size=14)\n",
    "plt.xlabel('Epochs',size=16)\n",
    "plt.ylabel('Accuracy',size=16)\n",
    "plt.tight_layout()"
   ]
  }
 ],
 "metadata": {
  "kernelspec": {
   "display_name": "Python 3",
   "language": "python",
   "name": "python3"
  },
  "language_info": {
   "codemirror_mode": {
    "name": "ipython",
    "version": 3
   },
   "file_extension": ".py",
   "mimetype": "text/x-python",
   "name": "python",
   "nbconvert_exporter": "python",
   "pygments_lexer": "ipython3",
   "version": "3.7.4"
  }
 },
 "nbformat": 4,
 "nbformat_minor": 2
}
